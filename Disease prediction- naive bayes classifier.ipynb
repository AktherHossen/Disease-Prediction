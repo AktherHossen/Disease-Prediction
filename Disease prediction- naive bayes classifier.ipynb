{
 "cells": [
  {
   "cell_type": "code",
   "execution_count": 5,
   "metadata": {},
   "outputs": [
    {
     "name": "stdout",
     "output_type": "stream",
     "text": [
      "Prediction Result:  [ 0  0  0  0  0  2  0  0  0  0  0  0  0  0  0  0 11  0  2  0  0  0  0  0\n",
      "  2  0  3 11  0  0  0  0  0  0  0  0  0  0  0  0  0  0  0  0  0  0  0 11\n",
      "  0  0  0  0  0  0  0  0  0  0  0  0]\n",
      "Accuracy:  0.9166666666666666\n",
      "\n",
      "\n",
      "Prediction Result:  [ 0  0  0  0  0  0  0  0  2  0  0  3  0 11  0 11  0  0  0  0  0  0  0  0\n",
      "  0  0  0 14  0  0  0  0  0  0  0  0  0  0  0  0  0  0  0  0  0  0  0  0\n",
      " 11  0  0  0  0  0  0  0  0 11  0  0]\n",
      "Accuracy:  0.9\n",
      "\n",
      "\n",
      "Prediction Result:  [ 0  0  0  0  0  2  0  0  0  0  0  0  0  0  0  0  0  0  0  0  0  0  0  0\n",
      "  0  0  0  0  0 11  0  0  0  0 11  0  0  0  0  0  0  0 11  0  0  0  0  0\n",
      "  0  0  0  0  0  0  0  0  0  0  0  0]\n",
      "Accuracy:  0.95\n",
      "\n",
      "\n",
      "Prediction Result:  [3 2 0 0 0 0 3 0 0 0 0 0 0 0 0 0 2 0 2 0 0 0 0 0 0 0 0 0 0 0 3 0 0 0 0 2 0\n",
      " 0 0 2 0 0 0 3 0 0 0 0 2 0 0 2 2 0 0 0 0 0 0 0]\n",
      "Accuracy:  0.8166666666666667\n",
      "\n",
      "\n",
      "Prediction Result:  [ 0  0  0  0  2  0  0  0  0  0 11  0  0  0  2  0  0  0  0 11  0  0  0  0\n",
      "  0 11  0  0  0  0  0  0  0 11  0  0  0  0  0  0  0  0  0 11  0  0  0 11\n",
      "  0  0 11  0  0  0  0  0  0  0  0  0]\n",
      "Accuracy:  0.8833333333333333\n",
      "\n",
      "\n",
      "Prediction Result:  [ 0  0  0  0  0  3  0  0  0  0  0  0  0  0  0  0  0  0  0 11  0  0  3  0\n",
      "  0  0  0  0  0  0  0  0  0  0 11  0  0  0  0  0  0  0  0 11  2  0  0 11\n",
      "  0  0  0  0  0  0  0  0  0  2  0  0]\n",
      "Accuracy:  0.8666666666666667\n",
      "\n",
      "\n",
      "Prediction Result:  [ 0  0  0  0  0  0  0 11  0  0  0  0  0  0 11  0  3 11  0  0  0  0  0  0\n",
      "  0  0  0  0  0  2  2  0  0  0  2  0  0  0  0  0  0  0  0  0  0  0  0  0\n",
      "  0  0  0  0  0  0  0  0  0  0  0 11]\n",
      "Accuracy:  0.8833333333333333\n",
      "\n",
      "\n",
      "Prediction Result:  [11  0  0  0  0  0  0  0  0  0  0  0  0  0  2  0  0  0  0  0  0  0  0  0\n",
      "  0  0  0  0  0  0  0  0  0  0  2  0 14  0  0  0  0  3  0  0  0  0  0  0\n",
      "  0  0  0  0 11 11  0  0  0  0 11  0]\n",
      "Accuracy:  0.8833333333333333\n",
      "\n",
      "\n",
      "Prediction Result:  [ 2  2  0  0  0  0  0  0  0 11  0  0  0  0  0 11  0  2  2  0  0  0  0  0\n",
      "  0  0  0  0 11  0  0  0  0  0  0  0 11 11  0  0  0  0  0  0  0  0  0  0\n",
      "  0  0 11  0  0  0  0  0  0  0  0  0]\n",
      "Accuracy:  0.8166666666666667\n",
      "\n",
      "\n"
     ]
    }
   ],
   "source": [
    "# Disease prediction- Using Chief Complaints/naive bayes classifier\n",
    "# Classification\n",
    "\n",
    "import pandas as pd\n",
    "import numpy as np\n",
    "from sklearn.naive_bayes import GaussianNB\n",
    "from sklearn.metrics import accuracy_score\n",
    "\n",
    "\n",
    "df = pd.read_csv('/Users/Akther Hossen/Desktop/disease_data.csv')\n",
    "\n",
    "df=df.fillna('0')\n",
    "\n",
    "X = df.iloc[:,19:36].values\n",
    "\n",
    "y = df.iloc[:,-1].values\n",
    "\n",
    "\n",
    "from sklearn.preprocessing import LabelEncoder\n",
    "labelencoder_X = LabelEncoder()\n",
    "for i in range(0,17):\n",
    "    X[:,i]= labelencoder_X.fit_transform(X[:,i])\n",
    "\n",
    "labelencoder_y = LabelEncoder()\n",
    "y= labelencoder_y.fit_transform(y)\n",
    "\n",
    "for i in range(1,10):\n",
    "    from sklearn.cross_validation import train_test_split\n",
    "    X_train, X_test, y_train, y_test = train_test_split(X,y, test_size = 0.20, random_state = i)\n",
    "\n",
    "    model = GaussianNB()\n",
    "    model.fit(X_train,y_train)\n",
    "    predicted = model.predict(X_test)\n",
    "    print(\"Prediction Result: \",predicted)\n",
    "\n",
    "    print(\"Accuracy: \",accuracy_score(y_test, predicted, normalize = True)) #accuracy_score(train output, predict output)\n",
    "    print('\\n')"
   ]
  },
  {
   "cell_type": "code",
   "execution_count": 8,
   "metadata": {},
   "outputs": [
    {
     "name": "stdout",
     "output_type": "stream",
     "text": [
      "245\n",
      "R-squared test score: -0.770\n"
     ]
    },
    {
     "data": {
      "text/plain": [
       "<Figure size 640x480 with 1 Axes>"
      ]
     },
     "metadata": {},
     "output_type": "display_data"
    }
   ],
   "source": [
    "# Disease prediction\n",
    "#DecisionTreeRegressor\n",
    "\n",
    "import pandas as pd\n",
    "import numpy as np\n",
    "from sklearn.tree import DecisionTreeRegressor\n",
    "import warnings; warnings.simplefilter('ignore')\n",
    "#importing the dataset\n",
    "df = pd.read_csv('/Users/Akther Hossen/Desktop/disease_data.csv')\n",
    "\n",
    "cols = [2,3,4,5,6]\n",
    "df.drop(df.columns[cols],axis=1,inplace=True)\n",
    "\n",
    "X = df.iloc[:,1:3].values\n",
    "\n",
    "\n",
    "y = df.iloc[:,-1].values\n",
    "print(len(y))\n",
    "\n",
    "\n",
    "from sklearn.preprocessing import LabelEncoder\n",
    "labelencoder_y = LabelEncoder()\n",
    "labelencoder_X = LabelEncoder()\n",
    "X[:,0]= labelencoder_X.fit_transform(X[:,0])\n",
    "#print(X)\n",
    "y= labelencoder_y.fit_transform(y)\n",
    "#print(len(y))\n",
    "\n",
    "\n",
    "from sklearn.cross_validation import train_test_split\n",
    "\n",
    "#for i in range(1,10):\n",
    "X_train, X_test, y_train, y_test = train_test_split(X,y,test_size = 0.20,random_state = 100)\n",
    "\n",
    "regressor = DecisionTreeRegressor(max_depth=100)\n",
    "regressor.fit(X_train,y_train)\n",
    "predicted = regressor.predict(X_test)\n",
    "#print(\"i = \",i)\n",
    "print('R-squared test score: {:.3f}'.format(regressor.score(X_test,y_test))) \n",
    "\n",
    "\n",
    "import seaborn as sns\n",
    "import matplotlib.pyplot as plt\n",
    "sns.set(style=\"darkgrid\")\n",
    "sns.tsplot(y_test[0:50])\n",
    "sns.tsplot(predicted[0:50],color=\"indianred\")\n",
    "plt.xlabel('Number of Observation')\n",
    "plt.ylabel('n')\n",
    "plt.title('Disease Prediction')\n",
    "plt.show()"
   ]
  },
  {
   "cell_type": "code",
   "execution_count": 1,
   "metadata": {},
   "outputs": [
    {
     "name": "stdout",
     "output_type": "stream",
     "text": [
      "Prediction Result:  [ 0 37 37 37 37  0 37 37  1 37 37 37 37 37 37 37  1 37 37 37 37 37 37 37\n",
      "  1  1 37 37 37 37 37 37 37 37 37 37 37 37 37 37 37 37  1 37 37 37 37 37\n",
      " 37 37 37 37 37 37  1 37 37  1 37 37 37 37 37  1 37 37 37 37 37 37 37 37\n",
      " 37 37 37 37  1 37 37 37 37]\n",
      "Accuracy:  0.49382716049382713\n"
     ]
    },
    {
     "name": "stderr",
     "output_type": "stream",
     "text": [
      "C:\\Users\\Akther Hossen\\Anaconda3\\lib\\site-packages\\sklearn\\cross_validation.py:41: DeprecationWarning: This module was deprecated in version 0.18 in favor of the model_selection module into which all the refactored classes and functions are moved. Also note that the interface of the new CV iterators are different from that of this module. This module will be removed in 0.20.\n",
      "  \"This module will be removed in 0.20.\", DeprecationWarning)\n"
     ]
    }
   ],
   "source": [
    "# Disease prediction/naive bayes classifier\n",
    "# Classification\n",
    "\n",
    "import pandas as pd\n",
    "import numpy as np\n",
    "from sklearn.naive_bayes import GaussianNB\n",
    "from sklearn.metrics import accuracy_score\n",
    "\n",
    "df = pd.read_csv('/Users/Akther Hossen/Desktop/disease_data.csv')\n",
    "\n",
    "cols = [2,3,4,5,6]\n",
    "df.drop(df.columns[cols],axis=1,inplace=True)\n",
    "X = df.iloc[:,1:3].values\n",
    "y = df.iloc[:,-1].values\n",
    "\n",
    "\n",
    "from sklearn.preprocessing import LabelEncoder\n",
    "labelencoder_y = LabelEncoder()\n",
    "labelencoder_X = LabelEncoder()\n",
    "X[:,0]= labelencoder_X.fit_transform(X[:,0])\n",
    "#print(X)\n",
    "y= labelencoder_y.fit_transform(y)\n",
    "#print(len(y))\n",
    "\n",
    "from sklearn.cross_validation import train_test_split\n",
    "X_train, X_test, y_train, y_test = train_test_split(X,y, test_size = 0.33, random_state = 4)\n",
    "\n",
    "model = GaussianNB()\n",
    "model.fit(X_train,y_train)\n",
    "predicted = model.predict(X_test)\n",
    "print(\"Prediction Result: \",predicted)\n",
    "\n",
    "print(\"Accuracy: \",accuracy_score(y_test, predicted, normalize = True))"
   ]
  },
  {
   "cell_type": "code",
   "execution_count": null,
   "metadata": {},
   "outputs": [],
   "source": []
  }
 ],
 "metadata": {
  "kernelspec": {
   "display_name": "Python 3",
   "language": "python",
   "name": "python3"
  },
  "language_info": {
   "codemirror_mode": {
    "name": "ipython",
    "version": 3
   },
   "file_extension": ".py",
   "mimetype": "text/x-python",
   "name": "python",
   "nbconvert_exporter": "python",
   "pygments_lexer": "ipython3",
   "version": "3.6.4"
  }
 },
 "nbformat": 4,
 "nbformat_minor": 2
}
